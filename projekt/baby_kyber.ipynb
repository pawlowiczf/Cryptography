{
 "cells": [
  {
   "cell_type": "markdown",
   "id": "4680a3d8",
   "metadata": {},
   "source": [
    "# Mini Projekt - Baby Kyber"
   ]
  },
  {
   "cell_type": "markdown",
   "id": "c444d5d3",
   "metadata": {},
   "source": [
    "## Pierścień $\\mathbb{Z}_{17}[X]/(X^4+1)$"
   ]
  },
  {
   "cell_type": "code",
   "execution_count": 108,
   "id": "db166476",
   "metadata": {},
   "outputs": [],
   "source": [
    "import numpy as np "
   ]
  },
  {
   "cell_type": "code",
   "execution_count": 109,
   "id": "1279a018",
   "metadata": {},
   "outputs": [],
   "source": [
    "# skopiuj pierścień ilorazowy wielomianów z pierwszych zajęć\n",
    "\n",
    "class ZnW:\n",
    "    #\n",
    "    def __init__(self, N, coefs, W):\n",
    "        self.N = N\n",
    "        self.coefs = (np.polydiv(coefs, W)[1] % N).astype('int')\n",
    "        self.W = W \n",
    "        \n",
    "    #\n",
    "\n",
    "    def __add__(self, other):\n",
    "        if isinstance(other, (int, float)):\n",
    "            result = self.coefs[:]\n",
    "            result[-1] += other \n",
    "            return ZnW(self.N, result, self.W)\n",
    "        \n",
    "        maxLength = max(len(self.coefs), len(other.coefs))\n",
    "        P = np.pad(self.coefs, (maxLength - len(self.coefs), 0))  \n",
    "        Q = np.pad(other.coefs, (maxLength - len(other.coefs), 0))\n",
    "\n",
    "        result = P + Q\n",
    "        return ZnW(self.N, result, self.W)\n",
    "    \n",
    "    def __sub__(self, other):\n",
    "        if isinstance(other, (int, float)):\n",
    "            result = self.coefs[:]\n",
    "            result[-1] -= other \n",
    "            return ZnW(self.N, result, self.W)\n",
    "        \n",
    "        maxLength = max(len(self.coefs), len(other.coefs))\n",
    "        P = np.pad(self.coefs, (maxLength - len(self.coefs), 0))  \n",
    "        Q = np.pad(other.coefs, (maxLength - len(other.coefs), 0))\n",
    "\n",
    "        result = P - Q\n",
    "        return ZnW(self.N, result, self.W)\n",
    "\n",
    "    def __mul__(self, other):\n",
    "        if isinstance(other, (int, float)):\n",
    "            result = np.polymul(self.coefs, [other])\n",
    "        else:\n",
    "            result = np.polymul(self.coefs, other.coefs) \n",
    "            return ZnW(self.N, result, self.W)\n",
    "    \n",
    "    def __rmul__(self, other):\n",
    "        if isinstance(other, (int, float)):\n",
    "            result = self.coefs * other\n",
    "        else:\n",
    "            result = np.polymul(self.coefs, other.coefs) \n",
    "        return ZnW(self.N, result, self.W)\n",
    "           \n",
    "    def __repr__(self):\n",
    "        return f\"{self.coefs}\"\n",
    "    \n",
    "#end ZnW() class "
   ]
  },
  {
   "cell_type": "markdown",
   "id": "ffc5b429",
   "metadata": {},
   "source": [
    "## Baby Kyber\n",
    "\n",
    "Zaimplementuj poniższe elementy kryptosystemu Baby Kyber tak, aby osiągnąć jak największą skuteczność w testach (przy niezerowych błędach). Wymagana minimalna skuteczność to 60%."
   ]
  },
  {
   "cell_type": "markdown",
   "id": "4d820fff",
   "metadata": {},
   "source": [
    "Na razie zaimplementowałem dla przykładowych danych. Na dole pliku dla dowolnych."
   ]
  },
  {
   "cell_type": "code",
   "execution_count": 110,
   "id": "25dbaa51",
   "metadata": {},
   "outputs": [
    {
     "name": "stdout",
     "output_type": "stream",
     "text": [
      "[[16 16  1  0] [16  0 16  0]]\n",
      "[[16 15  0  7] [10 12 11  6]]\n"
     ]
    }
   ],
   "source": [
    "W = [1, 0, 0, 0, 1]\n",
    "\n",
    "A = np.array([\n",
    "    [ZnW(17, [6, 16, 16, 11], W), ZnW(17, [9, 4, 6, 3], W)],\n",
    "    [ZnW(17, [5, 3, 10, 1], W), ZnW(17, [6, 1, 9, 15], W)]\n",
    "])\n",
    "\n",
    "s = np.array([ZnW(17, [-1, -1, 1, 0], W), ZnW(17, [-1, 0, -1, 0], W)])\n",
    "print(s)\n",
    "e = np.array([ZnW(17, [1, 0, 0], W), ZnW(17, [1, -1, 0], W)])\n",
    "t = np.dot(A, s.T) + e.T\n",
    "print(t)"
   ]
  },
  {
   "cell_type": "code",
   "execution_count": 111,
   "id": "dcb86c46",
   "metadata": {},
   "outputs": [],
   "source": [
    "m = ZnW(17, [1, 0, 1, 1], W)\n",
    "r = np.array([ZnW(17, [-1, 1, 0, 0], W), ZnW(17, [1, 1, 0, -1], W)])\n",
    "e1 = np.array([ZnW(17, [1, 1, 0], W), ZnW(17, [1, 0, 0], W)])\n",
    "e2 = np.array([ZnW(17, [-1, -1, 0, 0], W)])\n",
    "u = np.dot(A.T, r) + e1 "
   ]
  },
  {
   "cell_type": "code",
   "execution_count": 112,
   "id": "b670bf40",
   "metadata": {},
   "outputs": [
    {
     "name": "stdout",
     "output_type": "stream",
     "text": [
      "[0 7 0 7]\n"
     ]
    }
   ],
   "source": [
    "print(np.dot(t.T, r).coefs)"
   ]
  },
  {
   "cell_type": "code",
   "execution_count": 113,
   "id": "cdba8d71",
   "metadata": {},
   "outputs": [
    {
     "name": "stdout",
     "output_type": "stream",
     "text": [
      "[16  6  0  7]\n"
     ]
    }
   ],
   "source": [
    "print(np.dot(t.T, r) + e2[0])"
   ]
  },
  {
   "cell_type": "code",
   "execution_count": 114,
   "id": "ca359116",
   "metadata": {},
   "outputs": [
    {
     "data": {
      "text/plain": [
       "[ 8  6  9 16]"
      ]
     },
     "execution_count": 114,
     "metadata": {},
     "output_type": "execute_result"
    }
   ],
   "source": [
    "v = np.dot(t.T, r) + e2[0] + 9 * m\n",
    "v"
   ]
  },
  {
   "cell_type": "code",
   "execution_count": 115,
   "id": "3b90de99",
   "metadata": {},
   "outputs": [
    {
     "data": {
      "text/plain": [
       "[ 8 14  8  6]"
      ]
     },
     "execution_count": 115,
     "metadata": {},
     "output_type": "execute_result"
    }
   ],
   "source": [
    "m_n = v - np.dot(s.T, u)\n",
    "m_n"
   ]
  },
  {
   "cell_type": "code",
   "execution_count": 116,
   "id": "ac628e65",
   "metadata": {},
   "outputs": [],
   "source": [
    "def encrypt(coefs):\n",
    "    m = ZnW(17, coefs, W)\n",
    "    v = np.dot(t.T, r) + e2[0] + 9 * m\n",
    "    return v - np.dot(s.T, u)"
   ]
  },
  {
   "cell_type": "code",
   "execution_count": 117,
   "id": "edf0a04d",
   "metadata": {},
   "outputs": [],
   "source": [
    "def roundToNearest(value):\n",
    "    distTo0 = abs(value - 0)\n",
    "    distTo9 = abs(value - 9)\n",
    "    distTo17 = abs(value - 17)\n",
    "    \n",
    "    if distTo9 < distTo0 and distTo9 < distTo17:\n",
    "        return 1\n",
    "    else:\n",
    "        return 0"
   ]
  },
  {
   "cell_type": "code",
   "execution_count": 118,
   "id": "a736d2a1",
   "metadata": {},
   "outputs": [],
   "source": [
    "def decrypt(znw):\n",
    "    return list(map(lambda value : roundToNearest(value), znw.coefs))"
   ]
  },
  {
   "cell_type": "code",
   "execution_count": 119,
   "id": "0940e85a",
   "metadata": {},
   "outputs": [
    {
     "name": "stdout",
     "output_type": "stream",
     "text": [
      "Success rate: 100.0 %\n"
     ]
    }
   ],
   "source": [
    "import secrets as sc\n",
    "\n",
    "success = 0\n",
    "for i in range(1000):\n",
    "    output = []\n",
    "    \n",
    "    m=[sc.choice((0,1)) for k in range(4)]\n",
    "\n",
    "    c = encrypt(m)\n",
    "    m_n = decrypt(c)\n",
    "    if m_n == m:\n",
    "        success += 1\n",
    "\n",
    "print(f'Success rate: {success * 100 /1000} %')\n"
   ]
  },
  {
   "cell_type": "markdown",
   "id": "9d5febcb",
   "metadata": {},
   "source": [
    "### Generowanie klucza\n",
    "\n",
    "Zaimplementuj funkcję `key_gen()` realizującą generowanie klucza w kryptosystemie Baby Kyber. Funkcja ma zwracać `A,t,s`. Przetestuj, czy dla podanych $A,s,e$ otrzymasz poprawny wielomian $t$.\n",
    "\n",
    "$A=\\left[\\begin{matrix}\n",
    "    6x^3+16x^2+16x+11&9x^3+4x^2+6x+3\\\\\n",
    "    5x^3+3x^2+10x+1&6x^3+x^2+9x+15\n",
    "\\end{matrix}\\right]$\n",
    "\n",
    "$\\mathbf{s}=(-x^3-x^2+x,-x^3-x)$\n",
    "\n",
    "$\\mathbf{e}=(x^2,x^2-x)$\n",
    "\n",
    "$\\mathbf{t}=A\\mathbf{s}+\\mathbf{e}:\\ \\ \\mathbf{t}=(16x^3+15x^2+7,10x^3+12x^2+11x+6)$"
   ]
  },
  {
   "cell_type": "code",
   "execution_count": 120,
   "id": "069f4c3d",
   "metadata": {},
   "outputs": [],
   "source": [
    "q = 23\n",
    "k = 2 \n",
    "n = 4 \n",
    "W = [1, 0, 0, 0, 1]"
   ]
  },
  {
   "cell_type": "code",
   "execution_count": 121,
   "id": "069eefca",
   "metadata": {},
   "outputs": [],
   "source": [
    "def key_gen():\n",
    "    # returns A, t, s\n",
    "    A = np.array([[ZnW(q, np.random.randint(0, q, n), W) for _ in range(k)] for _ in range(k)])\n",
    "    s = np.array([ZnW(q, np.random.choice([-1, 0, 1], size=n, p=[0.1, 0.8, 0.1]), W) for _ in range(k)])\n",
    "    \n",
    "    e = np.array([ZnW(q, np.random.choice([-1, 0, 1], size=n, p=[0.1, 0.8, 0.1]), W) for _ in range(k)])\n",
    "    t = np.dot(A, s.T) + e.T\n",
    "    return A, t, s"
   ]
  },
  {
   "cell_type": "code",
   "execution_count": 122,
   "id": "d9dfa13e",
   "metadata": {},
   "outputs": [
    {
     "data": {
      "text/plain": [
       "(array([[[ 2 13  9  0], [ 5  5  3 10]],\n",
       "        [[13 14  3 10], [ 2  0 17  5]]], dtype=object),\n",
       " array([[0], [0]], dtype=object),\n",
       " array([[0], [0]], dtype=object))"
      ]
     },
     "execution_count": 122,
     "metadata": {},
     "output_type": "execute_result"
    }
   ],
   "source": [
    "key_gen()"
   ]
  },
  {
   "cell_type": "markdown",
   "id": "60e43683",
   "metadata": {},
   "source": [
    "### Szyfrowanie\n",
    "\n",
    "Zaimplementuj funkcję `encrypt(A,t,m)` realizującą szyfrowanie w kryptosystemie Baby Kyber a gdzie wejściowe `m` jest w postaci listy. Funkcja ma zwracać szyfrogram `c`. Przetestuj poprawność działania na poniższych danych. \n",
    "\n",
    "$m=1\\cdot x^3+0\\cdot x^2+1\\cdot x+1=x^3+x+1$\n",
    "\n",
    "$\\mathbf{r}=(-x^3+x^2,x^3+x^2-1)$\n",
    "\n",
    "$\\mathbf{e_1}=(x^2+x,x^2)$\n",
    "\n",
    "$e_2=-x^3-x^2$\n",
    "\n",
    "$\\mathbf{u}=A^T\\mathbf{r}+\\mathbf{e_1}:\\ \\ \\mathbf{u}=(11x^3+11x^2+10x+3,4x^3+4x^2+13x+11)$\n",
    "\n",
    "$v=\\mathbf{t}^T\\mathbf{r}+e_2+\\lfloor\\frac{q}{2}\\rceil m:\\ \\ v=8x^3+6x^2+9x+16$\n",
    "\n",
    "$\\mathbf{c}=(\\mathbf{u},v):\\ \\ \\mathbf{c}=((11x^3+11x^2+10x+3,4x^3+4x^2+13x+11),8x^3+6x^2+9x+16)$"
   ]
  },
  {
   "cell_type": "code",
   "execution_count": 123,
   "id": "852d9acd",
   "metadata": {},
   "outputs": [],
   "source": [
    "import math "
   ]
  },
  {
   "cell_type": "code",
   "execution_count": 124,
   "id": "902d15cc",
   "metadata": {},
   "outputs": [],
   "source": [
    "def encrypt(A, t, m):\n",
    "    m = ZnW(17, m, W)\n",
    "    r = np.array([ZnW(q, np.random.choice([-1, 0, 1], size=n, p=[0.1, 0.8, 0.1]), W) for _ in range(k)])\n",
    "    e1 = np.array([ZnW(q, np.random.choice([-1, 0, 1], size=n, p=[0.1, 0.8, 0.1]), W) for _ in range(k)])\n",
    "    e2 = np.array([ZnW(q, np.random.choice([-1, 0, 1], size=1, p=[0.1, 0.8, 0.1]), W)])\n",
    "\n",
    "    u = np.dot(A.T, r) + e1 \n",
    "    v = np.dot(t.T, r) + e2[0] + math.ceil(q / 2) * m\n",
    "    \n",
    "    c = (u, v)\n",
    "    return c\n",
    "# "
   ]
  },
  {
   "cell_type": "markdown",
   "id": "c0b5fd48",
   "metadata": {},
   "source": [
    "### Deszyfrowanie\n",
    "\n",
    "Zaimplementuj funkcję `decrypt(c,s)` realizującą deszyfrowanie w kryptosystemie Baby Kyber. Funkcja ma zwracać ostateczną odszyfrowaną wiadomość `m_n`. Przetestuj działanie na poniższych danych.\n",
    "\n",
    "$m_n=v-\\mathbf{s}^T\\mathbf{u}:\\ \\ m_n=8x^3+14x^2+8x+6$\n",
    "\n",
    "$m_n=1\\cdot x^3+0\\cdot x^2+1\\cdot x+1$\n"
   ]
  },
  {
   "cell_type": "code",
   "execution_count": 125,
   "id": "9d5ea81f",
   "metadata": {},
   "outputs": [],
   "source": [
    "def roundToNearest(m_n, q):\n",
    "    midpoint = math.ceil(q / 2)\n",
    "    distTo0 = abs(m_n - 0)\n",
    "    distToMid = abs(m_n - midpoint)\n",
    "    distToQ = abs(m_n - q)\n",
    "    \n",
    "    if distToMid< distTo0 and distToMid < distToQ:\n",
    "        return 1\n",
    "    else:\n",
    "        return 0\n",
    "#\n",
    "\n",
    "def decrypt(c, s):\n",
    "    u, v = c \n",
    "    m_n = v - np.dot(s.T, u)\n",
    "\n",
    "    return list(map(lambda value : roundToNearest(value, q), m_n.coefs))"
   ]
  },
  {
   "cell_type": "markdown",
   "id": "c3bf409c",
   "metadata": {},
   "source": [
    "### Testy"
   ]
  },
  {
   "cell_type": "code",
   "execution_count": 126,
   "id": "839e9142",
   "metadata": {},
   "outputs": [
    {
     "name": "stdout",
     "output_type": "stream",
     "text": [
      "Success rate: 75.4 %\n"
     ]
    }
   ],
   "source": [
    "import secrets as sc\n",
    "\n",
    "success = 0\n",
    "for i in range(1000):\n",
    "    output = []\n",
    "    A,t,s = key_gen()\n",
    "    \n",
    "    m = [sc.choice((0,1)) for k in range(4)]\n",
    "    \n",
    "    c = encrypt(A,t,m)\n",
    "    m_n = decrypt(c,s)\n",
    "\n",
    "    if m_n == m:\n",
    "        success += 1\n",
    "\n",
    "print(f'Success rate: {success * 100 /1000} %')\n"
   ]
  }
 ],
 "metadata": {
  "kernelspec": {
   "display_name": "Python 3",
   "language": "python",
   "name": "python3"
  },
  "language_info": {
   "codemirror_mode": {
    "name": "ipython",
    "version": 3
   },
   "file_extension": ".py",
   "mimetype": "text/x-python",
   "name": "python",
   "nbconvert_exporter": "python",
   "pygments_lexer": "ipython3",
   "version": "3.12.7"
  }
 },
 "nbformat": 4,
 "nbformat_minor": 5
}
